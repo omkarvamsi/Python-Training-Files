{
 "cells": [
  {
   "cell_type": "code",
   "execution_count": 4,
   "metadata": {},
   "outputs": [
    {
     "name": "stdout",
     "output_type": "stream",
     "text": [
      "\n",
      " i have a bike.\n",
      "\n",
      " my bike's brand name is bajaj pulsar 200\n"
     ]
    }
   ],
   "source": [
    "#definitions with default values\n",
    "\n",
    "def getyourcar(itemname,itemtype='car'):\n",
    "    \"\"\"display the info about items\"\"\"\n",
    "    print(f\"\\n i have a {itemtype}.\")\n",
    "    print(f\"\\n my {itemtype}'s brand name is {itemname}\")\n",
    "    \n",
    "getyourcar('bajaj pulsar 200','bike')"
   ]
  },
  {
   "cell_type": "code",
   "execution_count": 5,
   "metadata": {},
   "outputs": [
    {
     "name": "stdout",
     "output_type": "stream",
     "text": [
      "{'movietitle': 'avengers', 'moviesubtitle': 'age of ultron'}\n"
     ]
    }
   ],
   "source": [
    "#return the output in dictionary formatt..!!\n",
    "\n",
    "def build_movie_name(title,subtitle):\n",
    "    \"\"\"returns a disctionary of information about a movie\"\"\"\n",
    "    moviename={'movietitle':title, 'moviesubtitle':subtitle}\n",
    "    return moviename\n",
    "\n",
    "englishmovie = build_movie_name('avengers','age of ultron')\n",
    "print(englishmovie)"
   ]
  },
  {
   "cell_type": "code",
   "execution_count": 7,
   "metadata": {},
   "outputs": [
    {
     "name": "stdout",
     "output_type": "stream",
     "text": [
      "the winner is Omkar\n",
      "the winner is Krishna\n",
      "the winner is Vamsi\n"
     ]
    }
   ],
   "source": [
    "#passing a for loop in the function..!!\n",
    "\n",
    "def wonlottery(names):\n",
    "    for x in names:\n",
    "        msg = f\"the winner is {x.title()}\"\n",
    "        print(msg)\n",
    "        \n",
    "winners = ['omkar','krishna','vamsi']\n",
    "\n",
    "wonlottery(winners)"
   ]
  },
  {
   "cell_type": "code",
   "execution_count": 9,
   "metadata": {},
   "outputs": [
    {
     "name": "stdout",
     "output_type": "stream",
     "text": [
      "('curd', '1Plus', 'cool drink')\n"
     ]
    }
   ],
   "source": [
    "# passing an arbitary no of arguments\n",
    "\n",
    "# * (star) is arbitary paramaeter\n",
    "\n",
    "def groceries(*items):\n",
    "    \"\"\"print the list of groceries need to buy\"\"\"\n",
    "    print(items)\n",
    "    \n",
    "groceries('curd','1Plus','cool drink')\n"
   ]
  },
  {
   "cell_type": "code",
   "execution_count": null,
   "metadata": {},
   "outputs": [],
   "source": []
  }
 ],
 "metadata": {
  "kernelspec": {
   "display_name": "Python 3",
   "language": "python",
   "name": "python3"
  },
  "language_info": {
   "codemirror_mode": {
    "name": "ipython",
    "version": 3
   },
   "file_extension": ".py",
   "mimetype": "text/x-python",
   "name": "python",
   "nbconvert_exporter": "python",
   "pygments_lexer": "ipython3",
   "version": "3.7.3"
  }
 },
 "nbformat": 4,
 "nbformat_minor": 2
}
