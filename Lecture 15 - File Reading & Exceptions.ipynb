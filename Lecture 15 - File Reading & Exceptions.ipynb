{
 "cells": [
  {
   "cell_type": "code",
   "execution_count": 42,
   "metadata": {},
   "outputs": [],
   "source": [
    "#  Reading a file by uploading in the default path where python files exsists\n",
    "\n",
    "with open('users.txt') as fileobj:\n",
    "    content = fileobj.read()\n",
    "#print(content)"
   ]
  },
  {
   "cell_type": "code",
   "execution_count": 43,
   "metadata": {},
   "outputs": [
    {
     "name": "stdout",
     "output_type": "stream",
     "text": [
      "D:\\QV\\Data\\\n",
      "D:\\QV\\Data\\users.txt\n",
      "id,names\n",
      "1,omkar\n",
      "2,vamsi\n",
      "3,krishna\n"
     ]
    }
   ],
   "source": [
    "#opening a file with filepath in variable\n",
    "\n",
    "\"\"\"give double slash to stop behavioud or \\ which gives a new line\"\"\"\n",
    "datafilespath = \"D:\\\\QV\\\\Data\\\\\"\n",
    "\n",
    "readfilename = datafilespath + 'users.txt'\n",
    "\n",
    "print(datafilespath)\n",
    "print(str(readfilename))\n",
    "\n",
    "with open(readfilename) as ipfile:\n",
    "    readfile = ipfile.read()\n",
    "    print(readfile)\n",
    "\n",
    "\n"
   ]
  },
  {
   "cell_type": "code",
   "execution_count": 47,
   "metadata": {},
   "outputs": [
    {
     "name": "stdout",
     "output_type": "stream",
     "text": [
      "\n",
      "['Row ID\\tOrder ID\\tOrder Date\\tShip Date\\tShip Mode\\tCustomer ID\\tCustomer Name\\tSegment\\tCountry\\tCity\\tState\\tPostal Code\\tRegion\\tProduct ID\\tCategory\\tSub-Category\\tProduct Name\\tSales\\tQuantity\\tDiscount\\tProfit\\n', '1\\tCA-2016-152156\\t11/8/2016\\t11/11/2016\\tSecond Class\\tCG-12520\\tClaire Gute\\tConsumer\\tUnited States\\tHenderson\\tKentucky\\t42420\\tSouth\\tFUR-BO-10001798\\tFurniture\\tBookcases\\tBush Somerset Collection Bookcase\\t261.96\\t2\\t0\\t41.9136\\n']\n"
     ]
    }
   ],
   "source": [
    "# reading only N number of lines from the file\n",
    "\n",
    "from itertools import islice\n",
    "with open('Sample - Superstore.txt') as myfile:\n",
    "    head = list(islice(myfile, 2))\n",
    "    \n",
    "    print(f\"\\n{head}\")\n"
   ]
  },
  {
   "cell_type": "code",
   "execution_count": 78,
   "metadata": {},
   "outputs": [
    {
     "name": "stdout",
     "output_type": "stream",
     "text": [
      "<class 'numpy.ndarray'>\n",
      "['id,names\\n1,omkar\\n2,vamsi\\n3,krishna' '50' '60']\n"
     ]
    }
   ],
   "source": [
    "#write to the file\n",
    "import numpy as np\n",
    "import array as arr\n",
    "\n",
    "with open('users.txt') as fileip:\n",
    "    obj1 = fileip.read()\n",
    "    listobj = np.array(obj1)\n",
    "    \n",
    "    print(type(listobj))\n",
    "    \n",
    "    newArray = np.append(listobj, [[50, 60]])\n",
    "    print(newArray)\n",
    "    \n",
    "    \n",
    "    "
   ]
  },
  {
   "cell_type": "code",
   "execution_count": null,
   "metadata": {},
   "outputs": [],
   "source": []
  },
  {
   "cell_type": "code",
   "execution_count": null,
   "metadata": {},
   "outputs": [],
   "source": []
  },
  {
   "cell_type": "code",
   "execution_count": null,
   "metadata": {},
   "outputs": [],
   "source": []
  }
 ],
 "metadata": {
  "kernelspec": {
   "display_name": "Python 3",
   "language": "python",
   "name": "python3"
  },
  "language_info": {
   "codemirror_mode": {
    "name": "ipython",
    "version": 3
   },
   "file_extension": ".py",
   "mimetype": "text/x-python",
   "name": "python",
   "nbconvert_exporter": "python",
   "pygments_lexer": "ipython3",
   "version": "3.7.3"
  }
 },
 "nbformat": 4,
 "nbformat_minor": 2
}
