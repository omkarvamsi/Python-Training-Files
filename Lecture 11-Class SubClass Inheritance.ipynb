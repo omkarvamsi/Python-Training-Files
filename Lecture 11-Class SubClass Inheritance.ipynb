{
 "cells": [
  {
   "cell_type": "code",
   "execution_count": 15,
   "metadata": {},
   "outputs": [
    {
     "data": {
      "text/plain": [
       "'your bike name is gixxer'"
      ]
     },
     "execution_count": 15,
     "metadata": {},
     "output_type": "execute_result"
    }
   ],
   "source": [
    "# inheritance\n",
    "\n",
    "class parentclass:\n",
    "    \n",
    "    car='your car name is maruthi'\n",
    "    bike='your bike name is gixxer'\n",
    "    \n",
    "parentobj = parentclass()\n",
    "\n",
    "parentobj.car\n",
    "\n",
    "\n",
    "class childclass(parentclass):\n",
    "    pass\n",
    "\n",
    "childobj = childclass()\n",
    "\n",
    "childobj.car\n",
    "childobj.bike    "
   ]
  },
  {
   "cell_type": "code",
   "execution_count": 8,
   "metadata": {},
   "outputs": [
    {
     "data": {
      "text/plain": [
       "' you got a new bike dominar'"
      ]
     },
     "execution_count": 8,
     "metadata": {},
     "output_type": "execute_result"
    }
   ],
   "source": [
    "# change in the child class\n",
    "\n",
    "class parentclass:\n",
    "    \n",
    "    car='your car name is maruthi'\n",
    "    bike='your bike name is gixxer'\n",
    "    \n",
    "parentobj = parentclass()\n",
    "\n",
    "parentobj.car\n",
    "\n",
    "class subclass2(parentclass):\n",
    "    bike=' you got a new bike dominar'\n",
    "    \n",
    "childobj2 = subclass2()\n",
    "childobj2.car\n",
    "childobj2.bike"
   ]
  },
  {
   "cell_type": "code",
   "execution_count": 14,
   "metadata": {},
   "outputs": [
    {
     "name": "stdout",
     "output_type": "stream",
     "text": [
      "this is constructor:\n",
      "init will print by default without invoking\n"
     ]
    }
   ],
   "source": [
    "#constructor\n",
    "\n",
    "class constructor:\n",
    "    \n",
    "    def __init__(self):\n",
    "        \n",
    "        print(\"this is constructor:\")\n",
    "        print(\"init will print by default without invoking\")\n",
    "        \n",
    "\n",
    "call_CONSTR= constructor()\n",
    "\n"
   ]
  }
 ],
 "metadata": {
  "kernelspec": {
   "display_name": "Python 3",
   "language": "python",
   "name": "python3"
  },
  "language_info": {
   "codemirror_mode": {
    "name": "ipython",
    "version": 3
   },
   "file_extension": ".py",
   "mimetype": "text/x-python",
   "name": "python",
   "nbconvert_exporter": "python",
   "pygments_lexer": "ipython3",
   "version": "3.7.3"
  }
 },
 "nbformat": 4,
 "nbformat_minor": 2
}
