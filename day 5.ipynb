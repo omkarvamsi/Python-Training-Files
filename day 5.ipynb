{
 "cells": [
  {
   "cell_type": "code",
   "execution_count": 4,
   "metadata": {},
   "outputs": [
    {
     "name": "stdout",
     "output_type": "stream",
     "text": [
      "['laptop', 'mouse', 'earphones']\n"
     ]
    }
   ],
   "source": [
    "my_items=['laptop','mouse','earphones','charger']\n",
    "print(my_items[1:3])"
   ]
  },
  {
   "cell_type": "code",
   "execution_count": 6,
   "metadata": {},
   "outputs": [
    {
     "name": "stdout",
     "output_type": "stream",
     "text": [
      "['laptop', 'mouse']\n"
     ]
    }
   ],
   "source": [
    "print(my_items[:2])"
   ]
  },
  {
   "cell_type": "code",
   "execution_count": 9,
   "metadata": {},
   "outputs": [
    {
     "name": "stdout",
     "output_type": "stream",
     "text": [
      "Names of my items\n",
      "Laptop\n",
      "Mouse\n"
     ]
    }
   ],
   "source": [
    "print('Names of my items')\n",
    "for items in my_items[:2]:\n",
    "    print(items.title())\n"
   ]
  },
  {
   "cell_type": "code",
   "execution_count": 13,
   "metadata": {},
   "outputs": [
    {
     "name": "stdout",
     "output_type": "stream",
     "text": [
      "['audi', 'bmw', 'porsche', 'honda', 'hyundai']\n",
      "['audi', 'bmw', 'porsche', 'honda', 'parodua']\n"
     ]
    }
   ],
   "source": [
    "# copying the list\n",
    "my_cars=['audi','bmw','porsche','honda']\n",
    "\n",
    "friend_items= my_cars[:]\n",
    "\n",
    "#print(friend_items)\n",
    "\n",
    "#appending items to my_cars and friend_items\n",
    "\n",
    "my_cars.append('hyundai')\n",
    "\n",
    "print(my_cars)\n",
    "\n",
    "friend_items.append('parodua')\n",
    "print(friend_items)"
   ]
  }
 ],
 "metadata": {
  "kernelspec": {
   "display_name": "Python 3",
   "language": "python",
   "name": "python3"
  },
  "language_info": {
   "codemirror_mode": {
    "name": "ipython",
    "version": 3
   },
   "file_extension": ".py",
   "mimetype": "text/x-python",
   "name": "python",
   "nbconvert_exporter": "python",
   "pygments_lexer": "ipython3",
   "version": "3.7.3"
  }
 },
 "nbformat": 4,
 "nbformat_minor": 2
}
