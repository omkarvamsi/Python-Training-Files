{
 "cells": [
  {
   "cell_type": "code",
   "execution_count": 19,
   "metadata": {},
   "outputs": [
    {
     "name": "stdout",
     "output_type": "stream",
     "text": [
      "['a', 'b', 'c']\n",
      "['a', 'b', 'c', 'a', 'b', 'c']\n",
      "[6, 8, 9, 6, 8, 9]\n",
      "a\n",
      "Hero\n"
     ]
    }
   ],
   "source": [
    "#List\n",
    "list1=['a','b','c']\n",
    "print(list1)\n",
    "\n",
    "#when you multiplying the string with num, the list will repeat with same elements as many times with a number you choose\n",
    "print(list1*2)\n",
    "\n",
    "numlist1=[6,8,9]\n",
    "print(numlist1*2)\n",
    "\n",
    "print(list1[0])\n",
    "\n",
    "movies=['hero','queen','king']\n",
    "\n",
    "print(movies[0].title())\n",
    "\n"
   ]
  },
  {
   "cell_type": "code",
   "execution_count": 21,
   "metadata": {},
   "outputs": [],
   "source": [
    "## questions to ask############################\n",
    "#Capitaltitle=movies.title()\n",
    "#print(Capitaltitle)\n",
    "#how can we capitalize every element in the list using title function\n",
    "\n",
    "\n",
    "##"
   ]
  },
  {
   "cell_type": "code",
   "execution_count": 26,
   "metadata": {},
   "outputs": [
    {
     "name": "stdout",
     "output_type": "stream",
     "text": [
      "['hero', 'queen', 'king', 'newmovie', 'newmovie']\n",
      "['hero', 'queen', 'king', 'newmovie', 'newmovie']\n",
      "['hero', 'queen', 'king', 'newmovie']\n"
     ]
    }
   ],
   "source": [
    "print(movies)\n",
    "#movies.append('newmovie')\n",
    "# the values add up how many times you executed the line... so its goes on adding up\n",
    "print(movies)\n",
    "\n",
    "# delete the element\n",
    "del movies[-1]\n",
    "print(movies)"
   ]
  },
  {
   "cell_type": "code",
   "execution_count": 30,
   "metadata": {},
   "outputs": [
    {
     "name": "stdout",
     "output_type": "stream",
     "text": [
      "['hero', 'saaaho', 'saaaho', 'saaaho', 'saaaho', 'queen', 'king', 'newmovie']\n"
     ]
    },
    {
     "ename": "AttributeError",
     "evalue": "'list' object has no attribute 'capitalize'",
     "output_type": "error",
     "traceback": [
      "\u001b[1;31m---------------------------------------------------------------------------\u001b[0m",
      "\u001b[1;31mAttributeError\u001b[0m                            Traceback (most recent call last)",
      "\u001b[1;32m<ipython-input-30-a8f49419a1b1>\u001b[0m in \u001b[0;36m<module>\u001b[1;34m\u001b[0m\n\u001b[0;32m      3\u001b[0m \u001b[0mprint\u001b[0m\u001b[1;33m(\u001b[0m\u001b[0mmovies\u001b[0m\u001b[1;33m)\u001b[0m\u001b[1;33m\u001b[0m\u001b[1;33m\u001b[0m\u001b[0m\n\u001b[0;32m      4\u001b[0m \u001b[1;33m\u001b[0m\u001b[0m\n\u001b[1;32m----> 5\u001b[1;33m \u001b[0mmovies\u001b[0m\u001b[1;33m.\u001b[0m\u001b[0mcapitalize\u001b[0m\u001b[1;33m(\u001b[0m\u001b[1;33m)\u001b[0m\u001b[1;33m\u001b[0m\u001b[1;33m\u001b[0m\u001b[0m\n\u001b[0m\u001b[0;32m      6\u001b[0m \u001b[0mprint\u001b[0m\u001b[1;33m(\u001b[0m\u001b[0mmovies\u001b[0m\u001b[1;33m)\u001b[0m\u001b[1;33m\u001b[0m\u001b[1;33m\u001b[0m\u001b[0m\n",
      "\u001b[1;31mAttributeError\u001b[0m: 'list' object has no attribute 'capitalize'"
     ]
    }
   ],
   "source": [
    "#inserting a element in a specific index\n",
    "movies.insert(1,'saaaho')\n",
    "print(movies) \n",
    "\n",
    "movies.capitalize()\n",
    "print(movies)"
   ]
  },
  {
   "cell_type": "code",
   "execution_count": 34,
   "metadata": {},
   "outputs": [
    {
     "name": "stdout",
     "output_type": "stream",
     "text": [
      "['saaaho', 'saaaho', 'saaaho']\n",
      "['saaaho', 'saaaho', 'saaaho']\n"
     ]
    }
   ],
   "source": [
    "#pop will remove the last element in the list by default \n",
    "\n",
    "movies.pop()\n",
    "print(movies)\n",
    "#print(movies.pop(0))\n",
    "print(movies)"
   ]
  },
  {
   "cell_type": "code",
   "execution_count": 35,
   "metadata": {},
   "outputs": [
    {
     "name": "stdout",
     "output_type": "stream",
     "text": [
      "['hero', 'queen', 'king', 'newmovie', 'newmovie']\n"
     ]
    }
   ],
   "source": [
    "movies=['hero', 'queen', 'king', 'newmovie', 'newmovie']\n",
    "print(movies)"
   ]
  },
  {
   "cell_type": "code",
   "execution_count": 37,
   "metadata": {},
   "outputs": [
    {
     "name": "stdout",
     "output_type": "stream",
     "text": [
      "['audi', 'tot', 'max', 'perod']\n",
      "['audi', 'max', 'perod', 'tot']\n"
     ]
    }
   ],
   "source": [
    "#sorting out basis on first letter\n",
    "cars=['audi','tot','max','perod']\n",
    "print(cars)\n",
    "cars.sort()\n",
    "print(cars)\n"
   ]
  }
 ],
 "metadata": {
  "kernelspec": {
   "display_name": "Python 3",
   "language": "python",
   "name": "python3"
  },
  "language_info": {
   "codemirror_mode": {
    "name": "ipython",
    "version": 3
   },
   "file_extension": ".py",
   "mimetype": "text/x-python",
   "name": "python",
   "nbconvert_exporter": "python",
   "pygments_lexer": "ipython3",
   "version": "3.7.3"
  }
 },
 "nbformat": 4,
 "nbformat_minor": 2
}
