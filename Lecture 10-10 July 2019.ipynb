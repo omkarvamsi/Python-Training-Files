{
 "cells": [
  {
   "cell_type": "code",
   "execution_count": 6,
   "metadata": {},
   "outputs": [
    {
     "name": "stdout",
     "output_type": "stream",
     "text": [
      "vamsi <function promote at 0x00000285DA9BDE18>\n"
     ]
    }
   ],
   "source": [
    "# class methods,functions\n",
    "\n",
    "class Employee:\n",
    "    \"\"\"defining the employee model\"\"\"\n",
    "\n",
    "def __init__(self,name,project):\n",
    "    \"\"\"initialize the name and project\"\"\"\n",
    "    self.name=name\n",
    "    self.project=project\n",
    "\n",
    "def promote(self):\n",
    "    \"\"\"simulating the promotion to the employee\"\"\"\n",
    "    print(f\"{self.name} is now promoted\")\n",
    "    \n",
    "def rollproject(self):\n",
    "    \"\"\"simulating the employees to move project\"\"\"\n",
    "    print(f\"he is in project - {self.project}\")\n",
    "    \n",
    "\n",
    "Employee()\n",
    "print('vamsi',promote)"
   ]
  }
 ],
 "metadata": {
  "kernelspec": {
   "display_name": "Python 3",
   "language": "python",
   "name": "python3"
  },
  "language_info": {
   "codemirror_mode": {
    "name": "ipython",
    "version": 3
   },
   "file_extension": ".py",
   "mimetype": "text/x-python",
   "name": "python",
   "nbconvert_exporter": "python",
   "pygments_lexer": "ipython3",
   "version": "3.7.3"
  }
 },
 "nbformat": 4,
 "nbformat_minor": 2
}
