{
 "cells": [
  {
   "cell_type": "code",
   "execution_count": 33,
   "metadata": {},
   "outputs": [
    {
     "name": "stdout",
     "output_type": "stream",
     "text": [
      "omkar b1 10AM 19 july\n",
      "the gender is Male\n"
     ]
    }
   ],
   "source": [
    "class enroll:\n",
    "    \n",
    "    def __init__(self,name,batch,time,gender):\n",
    "        self.name = name\n",
    "        self.batch = batch\n",
    "        self.time = time\n",
    "        self.gender = 'Male' # force value to the parameter\n",
    "    \n",
    "    def Get_Enrolled(self):\n",
    "        enr_details = f\"{self.name} {self.batch} {self.time}\"\n",
    "        #return enr_details.title()\n",
    "        print(enr_details)\n",
    "        \n",
    "    def get_gender(self):\n",
    "        enter_gender = f\"the gender is {self.gender}\"\n",
    "        return enter_gender\n",
    "    \n",
    "#passing arguments on run time\n",
    "obj_enroll = enroll('omkar', 'b1', '10AM 19 july','child')\n",
    "\n",
    "obj_enroll.Get_Enrolled()\n",
    "#print(obj_enroll.Get_Enrolled())\n",
    "\n",
    "obj_enroll = enroll('omkar', 'b1', '10AM 19 july','women')\n",
    "print(obj_enroll.get_gender())\n",
    "\n"
   ]
  },
  {
   "cell_type": "code",
   "execution_count": null,
   "metadata": {},
   "outputs": [],
   "source": []
  },
  {
   "cell_type": "code",
   "execution_count": null,
   "metadata": {},
   "outputs": [],
   "source": []
  },
  {
   "cell_type": "code",
   "execution_count": null,
   "metadata": {},
   "outputs": [],
   "source": []
  }
 ],
 "metadata": {
  "kernelspec": {
   "display_name": "Python 3",
   "language": "python",
   "name": "python3"
  },
  "language_info": {
   "codemirror_mode": {
    "name": "ipython",
    "version": 3
   },
   "file_extension": ".py",
   "mimetype": "text/x-python",
   "name": "python",
   "nbconvert_exporter": "python",
   "pygments_lexer": "ipython3",
   "version": "3.7.3"
  }
 },
 "nbformat": 4,
 "nbformat_minor": 2
}
